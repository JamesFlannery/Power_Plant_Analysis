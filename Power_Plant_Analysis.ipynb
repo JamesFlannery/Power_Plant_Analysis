{
 "cells": [
  {
   "cell_type": "markdown",
   "metadata": {},
   "source": [
    "# Plant Performance Analysis - 2020\n",
    "#### This analysis is confidential.\n",
    "By: James Flannery"
   ]
  },
  {
   "cell_type": "markdown",
   "metadata": {},
   "source": [
    "![Combine Cycle Power Plant](img/ccpp.gif)\n",
    "\n",
    "The Power Plant is a 575 MW (with duct burners) 2×1 GE 7FA combined-cycle gas turbine power plant with an Alstom steam turbine. The plant can also burn ultra-low sulfur No.2 fuel oil."
   ]
  },
  {
   "cell_type": "markdown",
   "metadata": {},
   "source": [
    "## Introduction\n",
    "\n",
    "This project was carried out to determine an easier way to visualize the plant perfomance data.\n",
    "\n",
    "Plant operators suspected that one of the gas turbines was not operating at the expected efficiency (heat rate) above a certain generator load. The plant manager requested the control analyze the logs to confirm."
   ]
  },
  {
   "cell_type": "markdown",
   "metadata": {},
   "source": [
    "## Environment & Libraries\n",
    "\n"
   ]
  },
  {
   "cell_type": "markdown",
   "metadata": {},
   "source": [
    "## Data Source\n",
    "\n",
    "The data was imported from an excel file. This excel file imports data from the plant PI server (OSIsoft) is used by plant management to monitor plant operation and financial performance. The PI server reflects the raw values \n",
    "\n",
    "![PI Server](img/PIServer.jpeg)"
   ]
  },
  {
   "cell_type": "markdown",
   "metadata": {},
   "source": [
    "## Data Import & Processing\n",
    "The data is organized into tables consisting of one row per day, and each columns refelcting the value at each hour on the hour. The initial dataframe created has an index of each day of the year in a datetime format.\n",
    "\n",
    "Due to the formatting of the excel file, custom functions were required to loop through the tables and import data into each column of the [pandas](https://pandas.pydata.org/) dataframe. The python library [Openpyxl](https://openpyxl.readthedocs.io/en/stable/) is used to get the value of cells and custom ranges."
   ]
  },
  {
   "cell_type": "code",
   "execution_count": 1,
   "metadata": {},
   "outputs": [],
   "source": [
    "import openpyxl\n",
    "import pandas as pd\n",
    "from datetime import datetime, date, time\n",
    "import numpy as np"
   ]
  },
  {
   "cell_type": "code",
   "execution_count": 2,
   "metadata": {},
   "outputs": [],
   "source": [
    "#Open Document and Sheet\n",
    "doc = openpyxl.load_workbook('data/heatrate.xlsx')\n",
    "sheet = doc['Sheet1']"
   ]
  },
  {
   "cell_type": "code",
   "execution_count": 3,
   "metadata": {},
   "outputs": [],
   "source": [
    "#Create list of hrs in a year. \n",
    "all_hrs = []\n",
    "#Get the date from first column in the row. Ouput value is type datetime.\n",
    "#To keep the data to a reasonable size, (rows 68 through 129 are selected). \n",
    "for i in range(68,129,1):\n",
    "    date = sheet.cell(row=i,column=1).value\n",
    "    #Get value of each hr of the day. All values are time, execpt 0:00hrs which is datetime.\n",
    "    for j in range(2, 26, 1):\n",
    "        t = sheet.cell(row=7,column=j).value\n",
    "        #This is overkill.... use if/else to determine datatype, then get value as time.\n",
    "        #combine function needs a (datetime, time) input data types. Tedious.\n",
    "        if(type(t) is datetime):\n",
    "            t = datetime.time(t)\n",
    "            dt = datetime.combine(date, t)\n",
    "            all_hrs.append(dt)\n",
    "        elif(type(t) is time):\n",
    "            dt = datetime.combine(date, t)\n",
    "            all_hrs.append(dt)\n",
    "\n",
    "#Check number of days for accuracy\n",
    "#print(len(all_hrs)) # Checked\n",
    "#Check first 2 days of year for accuracy\n",
    "#print(all_hrs[:48]) #Checked\n",
    "#Check last 2 days of year for accuracy\n",
    "#print(all_hrs[-48:]) #Checked"
   ]
  },
  {
   "cell_type": "code",
   "execution_count": 4,
   "metadata": {},
   "outputs": [],
   "source": [
    "#Create pandas dataframe from list. Datetimes to be used as index\n",
    "df = pd.DataFrame(all_hrs)"
   ]
  },
  {
   "cell_type": "code",
   "execution_count": 5,
   "metadata": {},
   "outputs": [],
   "source": [
    "#Define function that takes a range of cells, and outputs a tuple of cell values.\n",
    "def RangeValue(a, b, c, d):\n",
    "    '''a = row start\n",
    "       b = row end\n",
    "       c = column start\n",
    "       d = column end'''\n",
    "    return(tuple(tuple(sheet.cell(row=a+i, column=c+j).value for j in range(d-c+1)) for i in range(b-a+1)))"
   ]
  },
  {
   "cell_type": "code",
   "execution_count": 6,
   "metadata": {},
   "outputs": [],
   "source": [
    "#Function takes column range values so that it can be iterated, and creates a column in pandas dataframe.\n",
    "def table_to_df(c,d):\n",
    "    #Create tuple \"cell_range\", taking the start and stop columns.\n",
    "    #Row values are the row 68 through 128 for all tables.\n",
    "    cell_range = RangeValue(68,128,c,d)\n",
    "    \n",
    "    list = []\n",
    "    for i,j in enumerate(cell_range):\n",
    "        for x in j:\n",
    "            list.append(x)\n",
    "    '''       \n",
    "    value_list = []\n",
    "    for i in list:\n",
    "        value_list.append(i)\n",
    "    '''    \n",
    "    #Get cell value of title box. Pass through string function.\n",
    "    name = ''\n",
    "    for cell in range(c,c+23):\n",
    "        #Column name is found in start column ('c') on row 5.\n",
    "        value = sheet.cell(row=5, column=cell).value\n",
    "        if type(value) is str:\n",
    "            name += ' ' +value\n",
    "    \n",
    "    name = name.lstrip()\n",
    "    name = name.rstrip()\n",
    "    #Create column in dataframe\n",
    "    df[name] = list"
   ]
  },
  {
   "cell_type": "code",
   "execution_count": 7,
   "metadata": {},
   "outputs": [],
   "source": [
    "#This is the incredibly boring and tedious. Since there is no cleaer pattern in the column number,\n",
    "#column numbers are put into a list, so that ranges can be created. Row values are constant.\n",
    "\n",
    "list  = [25, 51, 77, 103, 129, 155, 181, 207, 233, 259, 285, 311, 311, 363, 389, 415, 441, 467, 493, 519, 545, 571, 597, \n",
    "         623, 649, 675, 701,727,753,779,805,831,857,883,909,935,961,990,1016,1045,1071,1097,1123,1149,1175]\n",
    "\n",
    "#Iterate through the column number list and call function to add each table to the dataframe\n",
    "for i in list:\n",
    "    j = i - 23\n",
    "    table_to_df(j,i)"
   ]
  },
  {
   "cell_type": "code",
   "execution_count": 8,
   "metadata": {},
   "outputs": [],
   "source": [
    "#Rename time column to 'date_time'\n",
    "df = df.rename({0 : 'date_time'}, axis='columns')"
   ]
  },
  {
   "cell_type": "code",
   "execution_count": 9,
   "metadata": {},
   "outputs": [],
   "source": [
    "#Define Function to take Dataframe column and convert all values to float or NaN.\n",
    "def float_to_Nan(x):\n",
    "    'Input is DataFrame column'\n",
    "    try:\n",
    "        return np.float(x)\n",
    "    except:\n",
    "        return np.nan"
   ]
  },
  {
   "cell_type": "code",
   "execution_count": 10,
   "metadata": {},
   "outputs": [],
   "source": [
    "#Skip date_time column\n",
    "for column in df:\n",
    "    if column is 'date_time':\n",
    "        pass\n",
    "    else:\n",
    "        df[column] = df[column].apply(float_to_Nan)"
   ]
  },
  {
   "cell_type": "code",
   "execution_count": 11,
   "metadata": {},
   "outputs": [],
   "source": [
    "#Set 'date_time' as dataframe index\n",
    "df['dt_index'] = pd.to_datetime(df['date_time'])\n",
    "df = df.set_index('dt_index')\n",
    "df.drop(['date_time'], axis = 1, inplace = True);"
   ]
  },
  {
   "cell_type": "code",
   "execution_count": 12,
   "metadata": {},
   "outputs": [],
   "source": [
    "#There should be no negative values coming from these sensors.\n",
    "df[df<0]=0"
   ]
  },
  {
   "cell_type": "markdown",
   "metadata": {},
   "source": [
    "## Interactive Visualization for Plant Performance Analysis\n",
    "\n",
    "The Astoria power plant has a few different operating conditions that we need to take into account. The conditions we analyze are each GT operating on its own. We will create a new dataframe for each turbine and remove data from when the turbine was not in operation."
   ]
  },
  {
   "cell_type": "code",
   "execution_count": 13,
   "metadata": {},
   "outputs": [
    {
     "data": {
      "text/html": [
       "        <script type=\"text/javascript\">\n",
       "        window.PlotlyConfig = {MathJaxConfig: 'local'};\n",
       "        if (window.MathJax) {MathJax.Hub.Config({SVG: {font: \"STIX-Web\"}});}\n",
       "        if (typeof require !== 'undefined') {\n",
       "        require.undef(\"plotly\");\n",
       "        requirejs.config({\n",
       "            paths: {\n",
       "                'plotly': ['https://cdn.plot.ly/plotly-latest.min']\n",
       "            }\n",
       "        });\n",
       "        require(['plotly'], function(Plotly) {\n",
       "            window._Plotly = Plotly;\n",
       "        });\n",
       "        }\n",
       "        </script>\n",
       "        "
      ]
     },
     "metadata": {},
     "output_type": "display_data"
    }
   ],
   "source": [
    "import matplotlib.pyplot as plt\n",
    "import plotly\n",
    "import cufflinks as cf\n",
    "from plotly.offline import init_notebook_mode, iplot\n",
    "init_notebook_mode(connected=True)\n",
    "import plotly.graph_objects as go\n",
    "import chart_studio\n",
    "import chart_studio.plotly as py\n",
    "\n",
    "chart_studio.tools.set_credentials_file(username='jimflann', api_key='mO6ThElZzBSIESySEW6K')"
   ]
  },
  {
   "cell_type": "code",
   "execution_count": 14,
   "metadata": {},
   "outputs": [],
   "source": [
    "#Create new dataframe by passing name of new dataframe and column name from 'df'.\n",
    "def fplotly(df, x):\n",
    "    df_name = pd.DataFrame()\n",
    "    df_name[x] = df[x]\n",
    "    b = df_name[x]\n",
    "    values = go.Scatter(x=b.index, y=b.values, name = x)\n",
    "    layout = go.Layout(title='Plant Analysis' + ' - ' + x, xaxis=dict(title='Date'),yaxis=dict(title='Units'))\n",
    "    fig = go.Figure(data=[values], layout = layout)\n",
    "    return py.iplot(fig, sharing='public')"
   ]
  },
  {
   "cell_type": "code",
   "execution_count": 15,
   "metadata": {},
   "outputs": [
    {
     "data": {
      "text/html": [
       "\n",
       "        <iframe\n",
       "            width=\"100%\"\n",
       "            height=\"525px\"\n",
       "            src=\"https://plotly.com/~jimflann/187.embed\"\n",
       "            frameborder=\"0\"\n",
       "            allowfullscreen\n",
       "        ></iframe>\n",
       "        "
      ],
      "text/plain": [
       "<IPython.lib.display.IFrame at 0x7f572ccd1410>"
      ]
     },
     "execution_count": 15,
     "metadata": {},
     "output_type": "execute_result"
    }
   ],
   "source": [
    "fplotly(df, 'HIGHER HEATING VALUE')"
   ]
  },
  {
   "cell_type": "code",
   "execution_count": 16,
   "metadata": {},
   "outputs": [],
   "source": [
    "# Heat Rate for total power plant based on client gas meter.\n",
    "df['GT_GROSS_OUTPUT'] = df['CT 101 CT1 GROSS MW OUTPUT'] + df['CT 201 CT2 GROSS MW OUTPUT']\n",
    "df['Heatrate'] = (df['CONED METER GAS FLOW IN KSCFH'] * df['HIGHER HEATING VALUE']) / df['GT_GROSS_OUTPUT']"
   ]
  },
  {
   "cell_type": "code",
   "execution_count": 17,
   "metadata": {},
   "outputs": [
    {
     "data": {
      "text/html": [
       "\n",
       "        <iframe\n",
       "            width=\"100%\"\n",
       "            height=\"525px\"\n",
       "            src=\"https://plotly.com/~jimflann/189.embed\"\n",
       "            frameborder=\"0\"\n",
       "            allowfullscreen\n",
       "        ></iframe>\n",
       "        "
      ],
      "text/plain": [
       "<IPython.lib.display.IFrame at 0x7f572ccdc950>"
      ]
     },
     "execution_count": 17,
     "metadata": {},
     "output_type": "execute_result"
    }
   ],
   "source": [
    "fplotly(df, 'Heatrate')"
   ]
  },
  {
   "cell_type": "markdown",
   "metadata": {},
   "source": [
    "When plotting the calculated heat rate, there is a large positive values on March 30th. This is due to CT201's sensor reading a a negative ouput. This could be because the unit reverse power relay was delayed during a trip, or an error sensor."
   ]
  },
  {
   "cell_type": "code",
   "execution_count": 18,
   "metadata": {},
   "outputs": [
    {
     "data": {
      "text/plain": [
       "<matplotlib.axes._subplots.AxesSubplot at 0x7f572c80c390>"
      ]
     },
     "execution_count": 18,
     "metadata": {},
     "output_type": "execute_result"
    },
    {
     "data": {
      "image/png": "[encoded data removed]",
      "text/plain": [
       "<Figure size 432x288 with 1 Axes>"
      ]
     },
     "metadata": {
      "needs_background": "light"
     },
     "output_type": "display_data"
    }
   ],
   "source": [
    "df.plot.scatter(x = 'Heatrate',\n",
    "                y = 'GT_GROSS_OUTPUT',\n",
    "                xlim = (0,30000))"
   ]
  },
  {
   "cell_type": "code",
   "execution_count": 19,
   "metadata": {},
   "outputs": [
    {
     "data": {
      "text/plain": [
       "<matplotlib.axes._subplots.AxesSubplot at 0x7f572c00c250>"
      ]
     },
     "execution_count": 19,
     "metadata": {},
     "output_type": "execute_result"
    },
    {
     "data": {
      "image/png": "[encoded data removed]",
      "text/plain": [
       "<Figure size 432x288 with 1 Axes>"
      ]
     },
     "metadata": {
      "needs_background": "light"
     },
     "output_type": "display_data"
    }
   ],
   "source": [
    "df['CT 201 CT2 GROSS MW OUTPUT'].hist(bins=100)"
   ]
  },
  {
   "cell_type": "markdown",
   "metadata": {},
   "source": [
    "The above chart shows that CT102 idles ~100MW. Any values near 0 the unit can be considered offline. And the smaller values in between mean the unit was starting or stopping when at the top of the hour."
   ]
  },
  {
   "cell_type": "code",
   "execution_count": 20,
   "metadata": {},
   "outputs": [],
   "source": [
    "#Heat Rate for CT101 in 1x1 Operation (1 unit in operation)\n",
    "\n",
    "CT201_offline = df['CT 201 CT2 GROSS MW OUTPUT'] < 75\n",
    "CT101 = df[CT201_offline]\n",
    "CT101['CT101_Heatrate'] = (CT101['CT 101 GAS FLOW KSCFH'] * CT101['HIGHER HEATING VALUE']) / (CT101['CT 101 CT1 GROSS MW OUTPUT'])"
   ]
  },
  {
   "cell_type": "code",
   "execution_count": 21,
   "metadata": {},
   "outputs": [
    {
     "data": {
      "text/plain": [
       "<matplotlib.axes._subplots.AxesSubplot at 0x7f572be93810>"
      ]
     },
     "execution_count": 21,
     "metadata": {},
     "output_type": "execute_result"
    },
    {
     "data": {
      "image/png": "[encoded data removed]",
      "text/plain": [
       "<Figure size 432x288 with 1 Axes>"
      ]
     },
     "metadata": {
      "needs_background": "light"
     },
     "output_type": "display_data"
    }
   ],
   "source": [
    "CT101.plot.scatter(x = 'CT101_Heatrate',\n",
    "                   y = 'CT 101 CT1 GROSS MW OUTPUT')"
   ]
  },
  {
   "cell_type": "markdown",
   "metadata": {},
   "source": [
    "It is clear in the plot above, that there have been two operational profiles for this gas turbine. Case Closed?"
   ]
  }
 ],
 "metadata": {
  "kernelspec": {
   "display_name": "Python 3.7 - Spark (local)",
   "language": "python",
   "name": "spark-3-python"
  },
  "language_info": {
   "codemirror_mode": {
    "name": "ipython",
    "version": 3
   },
   "file_extension": ".py",
   "mimetype": "text/x-python",
   "name": "python",
   "nbconvert_exporter": "python",
   "pygments_lexer": "ipython3",
   "version": "3.7.7"
  }
 },
 "nbformat": 4,
 "nbformat_minor": 4
}
